{
 "cells": [
  {
   "cell_type": "code",
   "execution_count": 1,
   "id": "2f0b5a8f-1a9c-442a-99db-205a8db3433b",
   "metadata": {},
   "outputs": [
    {
     "name": "stderr",
     "output_type": "stream",
     "text": [
      "/home/loyot/anaconda3/envs/nerfacc/lib/python3.9/site-packages/tqdm/auto.py:22: TqdmWarning: IProgress not found. Please update jupyter and ipywidgets. See https://ipywidgets.readthedocs.io/en/stable/user_install.html\n",
      "  from .autonotebook import tqdm as notebook_tqdm\n"
     ]
    },
    {
     "name": "stdout",
     "output_type": "stream",
     "text": [
      "[Taichi] version 1.2.1, llvm 10.0.0, commit 12ab828a, linux, python 3.9.13\n",
      "[I 11/03/22 13:59:17.590 11951] [shell.py:_shell_pop_print@33] Graphical python shell detected, using wrapped sys.stdout\n",
      "[Taichi] Starting on arch=cuda\n"
     ]
    }
   ],
   "source": [
    "import pytest\n",
    "import torch\n",
    "\n",
    "from nerfacc import OccupancyGrid, ray_marching, unpack_info\n",
    "\n",
    "import taichi as ti\n",
    "ti.init(arch=ti.cuda)"
   ]
  },
  {
   "cell_type": "code",
   "execution_count": 2,
   "id": "3724f8a9-8b88-4f79-b091-4aebc707f8de",
   "metadata": {},
   "outputs": [],
   "source": [
    "device = \"cuda:0\"\n",
    "batch_size = 128"
   ]
  },
  {
   "cell_type": "code",
   "execution_count": 3,
   "id": "0c6625aa-3113-4f5a-baae-7efbe2c63f0f",
   "metadata": {},
   "outputs": [],
   "source": [
    "def test_marching_with_grid_cuda():\n",
    "    rays_o = torch.rand((batch_size, 3), device=device)\n",
    "    rays_d = torch.randn((batch_size, 3), device=device)\n",
    "    rays_d = rays_d / rays_d.norm(dim=-1, keepdim=True)\n",
    "    grid = OccupancyGrid(roi_aabb=[0, 0, 0, 1, 1, 1]).to(device)\n",
    "    grid._binary[:] = True\n",
    "\n",
    "    packed_info, t_starts, t_ends = ray_marching(\n",
    "        rays_o,\n",
    "        rays_d,\n",
    "        grid=grid,\n",
    "        near_plane=0.0,\n",
    "        far_plane=1.0,\n",
    "        render_step_size=1e-2,\n",
    "    )\n",
    "    torch.cuda.synchronize()"
   ]
  },
  {
   "cell_type": "code",
   "execution_count": 7,
   "id": "c935b7cf-ead5-492c-af5c-fdadda097183",
   "metadata": {},
   "outputs": [
    {
     "name": "stdout",
     "output_type": "stream",
     "text": [
      "13.8 ms ± 25.8 µs per loop (mean ± std. dev. of 7 runs, 100 loops each)\n"
     ]
    }
   ],
   "source": [
    "%timeit test_marching_with_grid_cuda() # grid_binary.flatten() with block"
   ]
  },
  {
   "cell_type": "code",
   "execution_count": 7,
   "id": "86cc5b76-abfc-4a85-b12d-714167ef30de",
   "metadata": {},
   "outputs": [
    {
     "name": "stdout",
     "output_type": "stream",
     "text": [
      "14.5 ms ± 139 µs per loop (mean ± std. dev. of 7 runs, 100 loops each)\n"
     ]
    }
   ],
   "source": [
    "%timeit test_marching_with_grid_cuda() # packed_info.flatten() t_starts.flatten() t_ends.flatten()"
   ]
  },
  {
   "cell_type": "code",
   "execution_count": 8,
   "id": "0756ffdc-a89a-40ff-8d6e-03cea21e14aa",
   "metadata": {},
   "outputs": [
    {
     "name": "stdout",
     "output_type": "stream",
     "text": [
      "14.4 ms ± 90.7 µs per loop (mean ± std. dev. of 7 runs, 100 loops each)\n"
     ]
    }
   ],
   "source": [
    "%timeit test_marching_with_grid_cuda() # no block"
   ]
  },
  {
   "cell_type": "code",
   "execution_count": 8,
   "id": "5952943b-a7fa-4674-a822-c8be18b00914",
   "metadata": {},
   "outputs": [
    {
     "name": "stdout",
     "output_type": "stream",
     "text": [
      "14.7 ms ± 325 µs per loop (mean ± std. dev. of 7 runs, 100 loops each)\n"
     ]
    }
   ],
   "source": [
    "%timeit test_marching_with_grid_cuda() # grid_binary shape 1"
   ]
  },
  {
   "cell_type": "code",
   "execution_count": 7,
   "id": "6e47e153-9232-49b5-85bc-e526166d1033",
   "metadata": {},
   "outputs": [
    {
     "name": "stdout",
     "output_type": "stream",
     "text": [
      "13.9 ms ± 66.5 µs per loop (mean ± std. dev. of 7 runs, 100 loops each)\n"
     ]
    }
   ],
   "source": [
    "%timeit test_marching_with_grid_cuda() #cuda"
   ]
  },
  {
   "cell_type": "code",
   "execution_count": null,
   "id": "4b239c38-1234-4798-8968-69e3aa0f3095",
   "metadata": {},
   "outputs": [],
   "source": []
  }
 ],
 "metadata": {
  "kernelspec": {
   "display_name": "Python [conda env:nerfacc]",
   "language": "python",
   "name": "conda-env-nerfacc-py"
  },
  "language_info": {
   "codemirror_mode": {
    "name": "ipython",
    "version": 3
   },
   "file_extension": ".py",
   "mimetype": "text/x-python",
   "name": "python",
   "nbconvert_exporter": "python",
   "pygments_lexer": "ipython3",
   "version": "3.9.13"
  }
 },
 "nbformat": 4,
 "nbformat_minor": 5
}
