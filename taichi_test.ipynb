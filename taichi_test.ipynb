{
 "cells": [
  {
   "cell_type": "code",
   "execution_count": 3,
   "id": "2f0b5a8f-1a9c-442a-99db-205a8db3433b",
   "metadata": {},
   "outputs": [
    {
     "ename": "ImportError",
     "evalue": "cannot import name 'NGPradianceField' from 'nerfacc' (/home/loyot/workspace/code/nerfacc/nerfacc/__init__.py)",
     "output_type": "error",
     "traceback": [
      "\u001b[0;31m---------------------------------------------------------------------------\u001b[0m",
      "\u001b[0;31mImportError\u001b[0m                               Traceback (most recent call last)",
      "Input \u001b[0;32mIn [3]\u001b[0m, in \u001b[0;36m<cell line: 4>\u001b[0;34m()\u001b[0m\n\u001b[1;32m      1\u001b[0m \u001b[38;5;28;01mimport\u001b[39;00m \u001b[38;5;21;01mpytest\u001b[39;00m\n\u001b[1;32m      2\u001b[0m \u001b[38;5;28;01mimport\u001b[39;00m \u001b[38;5;21;01mtorch\u001b[39;00m\n\u001b[0;32m----> 4\u001b[0m \u001b[38;5;28;01mfrom\u001b[39;00m \u001b[38;5;21;01mnerfacc\u001b[39;00m \u001b[38;5;28;01mimport\u001b[39;00m OccupancyGrid, ray_marching, unpack_info, NGPradianceField\n\u001b[1;32m      6\u001b[0m \u001b[38;5;28;01mimport\u001b[39;00m \u001b[38;5;21;01mtaichi\u001b[39;00m \u001b[38;5;28;01mas\u001b[39;00m \u001b[38;5;21;01mti\u001b[39;00m\n\u001b[1;32m      7\u001b[0m ti\u001b[38;5;241m.\u001b[39minit(arch\u001b[38;5;241m=\u001b[39mti\u001b[38;5;241m.\u001b[39mcuda)\n",
      "\u001b[0;31mImportError\u001b[0m: cannot import name 'NGPradianceField' from 'nerfacc' (/home/loyot/workspace/code/nerfacc/nerfacc/__init__.py)"
     ]
    }
   ],
   "source": [
    "import pytest\n",
    "import torch\n",
    "\n",
    "from nerfacc import OccupancyGrid, ray_marching, unpack_info\n",
    "\n",
    "import taichi as ti\n",
    "ti.init(arch=ti.cuda)"
   ]
  },
  {
   "cell_type": "code",
   "execution_count": 2,
   "id": "3724f8a9-8b88-4f79-b091-4aebc707f8de",
   "metadata": {},
   "outputs": [],
   "source": [
    "device = \"cuda:0\"\n",
    "batch_size = 128"
   ]
  },
  {
   "cell_type": "code",
   "execution_count": 3,
   "id": "0c6625aa-3113-4f5a-baae-7efbe2c63f0f",
   "metadata": {},
   "outputs": [],
   "source": [
    "def test_marching_with_grid_cuda():\n",
    "    rays_o = torch.rand((batch_size, 3), device=device)\n",
    "    rays_d = torch.randn((batch_size, 3), device=device)\n",
    "    rays_d = rays_d / rays_d.norm(dim=-1, keepdim=True)\n",
    "    grid = OccupancyGrid(roi_aabb=[0, 0, 0, 1, 1, 1]).to(device)\n",
    "    grid._binary[:] = True\n",
    "\n",
    "    packed_info, t_starts, t_ends = ray_marching(\n",
    "        rays_o,\n",
    "        rays_d,\n",
    "        grid=grid,\n",
    "        near_plane=0.0,\n",
    "        far_plane=1.0,\n",
    "        render_step_size=1e-2,\n",
    "    )\n",
    "    torch.cuda.synchronize()"
   ]
  },
  {
   "cell_type": "code",
   "execution_count": 7,
   "id": "c935b7cf-ead5-492c-af5c-fdadda097183",
   "metadata": {},
   "outputs": [
    {
     "name": "stdout",
     "output_type": "stream",
     "text": [
      "13.8 ms ± 25.8 µs per loop (mean ± std. dev. of 7 runs, 100 loops each)\n"
     ]
    }
   ],
   "source": [
    "%timeit test_marching_with_grid_cuda() # grid_binary.flatten() with block"
   ]
  },
  {
   "cell_type": "code",
   "execution_count": 7,
   "id": "86cc5b76-abfc-4a85-b12d-714167ef30de",
   "metadata": {},
   "outputs": [
    {
     "name": "stdout",
     "output_type": "stream",
     "text": [
      "14.5 ms ± 139 µs per loop (mean ± std. dev. of 7 runs, 100 loops each)\n"
     ]
    }
   ],
   "source": [
    "%timeit test_marching_with_grid_cuda() # packed_info.flatten() t_starts.flatten() t_ends.flatten()"
   ]
  },
  {
   "cell_type": "code",
   "execution_count": 8,
   "id": "0756ffdc-a89a-40ff-8d6e-03cea21e14aa",
   "metadata": {},
   "outputs": [
    {
     "name": "stdout",
     "output_type": "stream",
     "text": [
      "14.4 ms ± 90.7 µs per loop (mean ± std. dev. of 7 runs, 100 loops each)\n"
     ]
    }
   ],
   "source": [
    "%timeit test_marching_with_grid_cuda() # no block"
   ]
  },
  {
   "cell_type": "code",
   "execution_count": 8,
   "id": "5952943b-a7fa-4674-a822-c8be18b00914",
   "metadata": {},
   "outputs": [
    {
     "name": "stdout",
     "output_type": "stream",
     "text": [
      "14.7 ms ± 325 µs per loop (mean ± std. dev. of 7 runs, 100 loops each)\n"
     ]
    }
   ],
   "source": [
    "%timeit test_marching_with_grid_cuda() # grid_binary shape 1"
   ]
  },
  {
   "cell_type": "code",
   "execution_count": 7,
   "id": "6e47e153-9232-49b5-85bc-e526166d1033",
   "metadata": {},
   "outputs": [
    {
     "name": "stdout",
     "output_type": "stream",
     "text": [
      "13.9 ms ± 66.5 µs per loop (mean ± std. dev. of 7 runs, 100 loops each)\n"
     ]
    }
   ],
   "source": [
    "%timeit test_marching_with_grid_cuda() #cuda"
   ]
  },
  {
   "cell_type": "code",
   "execution_count": 9,
   "id": "8e88c032-234e-4f98-bee2-7dae4d1ccc50",
   "metadata": {},
   "outputs": [],
   "source": [
    "import tinycudann as tcnn\n",
    "import numpy as np"
   ]
  },
  {
   "cell_type": "code",
   "execution_count": 34,
   "id": "4b239c38-1234-4798-8968-69e3aa0f3095",
   "metadata": {},
   "outputs": [],
   "source": [
    "# constants\n",
    "n_levels = 4\n",
    "targe_resolution = 1024\n",
    "base_resolution = 256\n",
    "b = np.exp(np.log(targe_resolution/base_resolution)/(n_levels-1))\n",
    "per_level_scale = b\n",
    "\n",
    "posi_encoder = tcnn.Encoding(\n",
    "    n_input_dims=3,\n",
    "    encoding_config={\n",
    "        \"otype\": \"HashGrid\",\n",
    "        \"n_levels\": n_levels,\n",
    "        \"n_features_per_level\": 2,\n",
    "        \"log2_hashmap_size\": 19,\n",
    "        \"base_resolution\": base_resolution,\n",
    "        \"per_level_scale\": np.exp(np.log(4/2)/(8-1)),\n",
    "    }\n",
    ")"
   ]
  },
  {
   "cell_type": "code",
   "execution_count": 33,
   "id": "8d555da4-baeb-476b-9360-ef12f41a5015",
   "metadata": {},
   "outputs": [
    {
     "data": {
      "text/plain": [
       "1.1040895136738123"
      ]
     },
     "execution_count": 33,
     "metadata": {},
     "output_type": "execute_result"
    }
   ],
   "source": [
    "np.exp(np.log(4/2)/(8-1))"
   ]
  },
  {
   "cell_type": "code",
   "execution_count": 29,
   "id": "50e5ae89-963a-4c75-bc9e-f75dd2e2831a",
   "metadata": {},
   "outputs": [
    {
     "data": {
      "text/plain": [
       "1.1040895136738123"
      ]
     },
     "execution_count": 29,
     "metadata": {},
     "output_type": "execute_result"
    }
   ],
   "source": [
    "np.exp(np.log(4/2)/(8-1))"
   ]
  },
  {
   "cell_type": "code",
   "execution_count": 35,
   "id": "5923f2a8-e405-40ab-8a86-6dbe0e755c15",
   "metadata": {},
   "outputs": [
    {
     "name": "stdout",
     "output_type": "stream",
     "text": [
      "python per_level_scale: 1.5874010519681994\n",
      "tcnn per_level_scale: 1.1040894985198975\n"
     ]
    }
   ],
   "source": [
    "b_tcnn = posi_encoder.native_tcnn_module.hyperparams()['per_level_scale']\n",
    "print(f\"python per_level_scale: {b}\")\n",
    "print(f\"tcnn per_level_scale: {b_tcnn}\")"
   ]
  },
  {
   "cell_type": "code",
   "execution_count": 37,
   "id": "65bd7c8a-7065-497b-bc6d-060709d6dda0",
   "metadata": {},
   "outputs": [
    {
     "name": "stdout",
     "output_type": "stream",
     "text": [
      "tcnn res: [2, 3, 3, 3, 3, 4, 4, 4]\n",
      "python res: [2, 4, 6, 8]\n"
     ]
    }
   ],
   "source": [
    "ress = []\n",
    "for i in range(8):\n",
    "    ress.append(int(np.ceil(2 * np.exp(i*np.log(b_tcnn)) - 1.0)) + 1)\n",
    "    \n",
    "print(f\"tcnn res: {ress}\")\n",
    "\n",
    "ress = []\n",
    "for i in range(n_levels):\n",
    "    ress.append(int(np.ceil(2 * np.exp(i*np.log(b)) - 1.0)) + 1)\n",
    "    \n",
    "print(f\"python res: {ress}\")"
   ]
  },
  {
   "cell_type": "code",
   "execution_count": 14,
   "id": "253dfc06-e7fc-4f49-b778-291db612c953",
   "metadata": {},
   "outputs": [
    {
     "data": {
      "text/plain": [
       "torch.Size([12196240])"
      ]
     },
     "execution_count": 14,
     "metadata": {},
     "output_type": "execute_result"
    }
   ],
   "source": [
    "posi_encoder.params.shape"
   ]
  },
  {
   "cell_type": "code",
   "execution_count": 10,
   "id": "fae5e916-1abd-4213-a2ba-740fd61525f6",
   "metadata": {},
   "outputs": [
    {
     "data": {
      "text/plain": [
       "8576"
      ]
     },
     "execution_count": 10,
     "metadata": {},
     "output_type": "execute_result"
    }
   ],
   "source": [
    "3*64+64*64+64*64+64*3"
   ]
  },
  {
   "cell_type": "code",
   "execution_count": 70,
   "id": "ed2997ea-64f6-4941-881b-77713cfbab83",
   "metadata": {},
   "outputs": [
    {
     "data": {
      "text/plain": [
       "2097152"
      ]
     },
     "execution_count": 70,
     "metadata": {},
     "output_type": "execute_result"
    }
   ],
   "source": [
    "2**21"
   ]
  },
  {
   "cell_type": "code",
   "execution_count": 77,
   "id": "c1dcc8cf-ddf1-4693-8051-bb485189ed38",
   "metadata": {},
   "outputs": [
    {
     "data": {
      "text/plain": [
       "-12016"
      ]
     },
     "execution_count": 77,
     "metadata": {},
     "output_type": "execute_result"
    }
   ],
   "source": [
    "38**4 - 2**21"
   ]
  },
  {
   "cell_type": "code",
   "execution_count": 29,
   "id": "8a130ae2-410c-44c2-ba64-e408c5c0053d",
   "metadata": {},
   "outputs": [
    {
     "data": {
      "text/plain": [
       "13.0"
      ]
     },
     "execution_count": 29,
     "metadata": {},
     "output_type": "execute_result"
    }
   ],
   "source": [
    "26 / 2"
   ]
  },
  {
   "cell_type": "code",
   "execution_count": 1,
   "id": "ba19a73e-6f21-413d-80ec-f258da3e7993",
   "metadata": {},
   "outputs": [],
   "source": [
    "%matplotlib inline\n",
    "import matplotlib.pyplot as plt\n",
    "plt.rcParams['figure.dpi'] = 150\n",
    "from ipywidgets import interact, widgets\n",
    "from PIL import Image\n",
    "import glob\n",
    "\n",
    "import re\n",
    "def atoi(text):\n",
    "    return int(text) if text.isdigit() else text\n",
    "\n",
    "def natural_keys(text):\n",
    "    '''\n",
    "    alist.sort(key=natural_keys) sorts in human order\n",
    "    http://nedbatchelder.com/blog/200712/human_sorting.html\n",
    "    (See Toothy's implementation in the comments)\n",
    "    '''\n",
    "    return [ atoi(c) for c in re.split(r'(\\d+)', text) ]"
   ]
  },
  {
   "cell_type": "code",
   "execution_count": 2,
   "id": "b14e8fe2-1374-45e7-a995-4c52ca81476e",
   "metadata": {},
   "outputs": [],
   "source": [
    "def read_images(file_list):\n",
    "    images = []\n",
    "    for i in file_list:\n",
    "        images.append(Image.open(i))\n",
    "    \n",
    "    return images\n",
    "        \n",
    "        \n",
    "def browse_images(digits):\n",
    "    n = len(digits)\n",
    "    w = widgets.IntSlider(value=0, min=0, max=(n-1))\n",
    "    def view_image(x):\n",
    "        plt.imshow(digits[x], cmap=plt.cm.gray_r, interpolation='nearest')\n",
    "        plt.title(f'rgb_{x}.png')\n",
    "        plt.show()\n",
    "    interact(view_image, x=w)"
   ]
  },
  {
   "cell_type": "code",
   "execution_count": 5,
   "id": "9fae97b9-f0d0-4463-80d7-0a86b61b2ee6",
   "metadata": {},
   "outputs": [
    {
     "data": {
      "application/vnd.jupyter.widget-view+json": {
       "model_id": "6af3062bc7cf411f90e902b1b5723ebf",
       "version_major": 2,
       "version_minor": 0
      },
      "text/plain": [
       "interactive(children=(IntSlider(value=0, description='x', max=20), Output()), _dom_classes=('widget-interact',…"
      ]
     },
     "metadata": {},
     "output_type": "display_data"
    }
   ],
   "source": [
    "root = \"/home/loyot/workspace/code/training_results/nerfacc/ngp_dnerf/trex/lr_0-01/pf_nopw_l-huber/training/rgb*.png\"\n",
    "images_list = glob.glob(root)\n",
    "images_list.sort(key=natural_keys)\n",
    "image_data = read_images(images_list)\n",
    "browse_images(image_data)"
   ]
  },
  {
   "cell_type": "code",
   "execution_count": 85,
   "id": "6a27fce9-7dba-4126-9297-669d0dd58a39",
   "metadata": {},
   "outputs": [
    {
     "data": {
      "application/vnd.jupyter.widget-view+json": {
       "model_id": "c073c82ae84449398c81b201b56e6448",
       "version_major": 2,
       "version_minor": 0
      },
      "text/plain": [
       "interactive(children=(IntSlider(value=0, description='x', max=20), Output()), _dom_classes=('widget-interact',…"
      ]
     },
     "metadata": {},
     "output_type": "display_data"
    }
   ],
   "source": [
    "root = \"/home/loyot/workspace/code/training_results/nerfacc/ngp_dnerf/trex/lr_0-01/pf_nopw_l-huber/training/rgb*.png\"\n",
    "images_list = glob.glob(root)\n",
    "images_list.sort(key=natural_keys)\n",
    "image_data = read_images(images_list)\n",
    "browse_images(image_data)"
   ]
  },
  {
   "cell_type": "code",
   "execution_count": 31,
   "id": "33e9098e-bfdd-4790-9d98-93a69c8f735b",
   "metadata": {},
   "outputs": [
    {
     "data": {
      "application/vnd.jupyter.widget-view+json": {
       "model_id": "88aa8527bc9c4f378316f7d132f0bc81",
       "version_major": 2,
       "version_minor": 0
      },
      "text/plain": [
       "interactive(children=(IntSlider(value=15, description='x', max=19), Output()), _dom_classes=('widget-interact'…"
      ]
     },
     "metadata": {},
     "output_type": "display_data"
    }
   ],
   "source": [
    "image_data = read_images(images_list)\n",
    "browse_images(image_data)"
   ]
  },
  {
   "cell_type": "code",
   "execution_count": null,
   "id": "76a9c62a-b52f-4dfe-8d41-f1e708f2ef74",
   "metadata": {},
   "outputs": [],
   "source": []
  }
 ],
 "metadata": {
  "kernelspec": {
   "display_name": "Python [conda env:nerfacc]",
   "language": "python",
   "name": "conda-env-nerfacc-py"
  },
  "language_info": {
   "codemirror_mode": {
    "name": "ipython",
    "version": 3
   },
   "file_extension": ".py",
   "mimetype": "text/x-python",
   "name": "python",
   "nbconvert_exporter": "python",
   "pygments_lexer": "ipython3",
   "version": "3.9.13"
  }
 },
 "nbformat": 4,
 "nbformat_minor": 5
}
