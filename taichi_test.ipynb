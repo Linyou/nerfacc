{
 "cells": [
  {
   "cell_type": "code",
   "execution_count": 1,
   "id": "2f0b5a8f-1a9c-442a-99db-205a8db3433b",
   "metadata": {},
   "outputs": [
    {
     "name": "stdout",
     "output_type": "stream",
     "text": [
      "[Taichi] version 1.2.2, llvm 10.0.0, commit 608e4b57, linux, python 3.9.13\n",
      "[I 01/04/23 14:57:03.752 2940179] [shell.py:_shell_pop_print@33] Graphical python shell detected, using wrapped sys.stdout\n",
      "[Taichi] Starting on arch=cuda\n"
     ]
    }
   ],
   "source": [
    "import pytest\n",
    "import torch\n",
    "\n",
    "from nerfacc import OccupancyGrid, ray_marching, unpack_info\n",
    "\n",
    "import taichi as ti\n",
    "ti.init(arch=ti.cuda)"
   ]
  },
  {
   "cell_type": "code",
   "execution_count": 2,
   "id": "3724f8a9-8b88-4f79-b091-4aebc707f8de",
   "metadata": {},
   "outputs": [],
   "source": [
    "device = \"cuda:0\"\n",
    "batch_size = 128"
   ]
  },
  {
   "cell_type": "code",
   "execution_count": 3,
   "id": "0c6625aa-3113-4f5a-baae-7efbe2c63f0f",
   "metadata": {},
   "outputs": [],
   "source": [
    "def test_marching_with_grid_cuda():\n",
    "    rays_o = torch.rand((batch_size, 3), device=device)\n",
    "    rays_d = torch.randn((batch_size, 3), device=device)\n",
    "    rays_d = rays_d / rays_d.norm(dim=-1, keepdim=True)\n",
    "    grid = OccupancyGrid(roi_aabb=[0, 0, 0, 1, 1, 1]).to(device)\n",
    "    grid._binary[:] = True\n",
    "\n",
    "    packed_info, t_starts, t_ends = ray_marching(\n",
    "        rays_o,\n",
    "        rays_d,\n",
    "        grid=grid,\n",
    "        near_plane=0.0,\n",
    "        far_plane=1.0,\n",
    "        render_step_size=1e-2,\n",
    "    )\n",
    "    torch.cuda.synchronize()"
   ]
  },
  {
   "cell_type": "code",
   "execution_count": 7,
   "id": "c935b7cf-ead5-492c-af5c-fdadda097183",
   "metadata": {},
   "outputs": [
    {
     "name": "stdout",
     "output_type": "stream",
     "text": [
      "13.8 ms ± 25.8 µs per loop (mean ± std. dev. of 7 runs, 100 loops each)\n"
     ]
    }
   ],
   "source": [
    "%timeit test_marching_with_grid_cuda() # grid_binary.flatten() with block"
   ]
  },
  {
   "cell_type": "code",
   "execution_count": 7,
   "id": "86cc5b76-abfc-4a85-b12d-714167ef30de",
   "metadata": {},
   "outputs": [
    {
     "name": "stdout",
     "output_type": "stream",
     "text": [
      "14.5 ms ± 139 µs per loop (mean ± std. dev. of 7 runs, 100 loops each)\n"
     ]
    }
   ],
   "source": [
    "%timeit test_marching_with_grid_cuda() # packed_info.flatten() t_starts.flatten() t_ends.flatten()"
   ]
  },
  {
   "cell_type": "code",
   "execution_count": 8,
   "id": "0756ffdc-a89a-40ff-8d6e-03cea21e14aa",
   "metadata": {},
   "outputs": [
    {
     "name": "stdout",
     "output_type": "stream",
     "text": [
      "14.4 ms ± 90.7 µs per loop (mean ± std. dev. of 7 runs, 100 loops each)\n"
     ]
    }
   ],
   "source": [
    "%timeit test_marching_with_grid_cuda() # no block"
   ]
  },
  {
   "cell_type": "code",
   "execution_count": 8,
   "id": "5952943b-a7fa-4674-a822-c8be18b00914",
   "metadata": {},
   "outputs": [
    {
     "name": "stdout",
     "output_type": "stream",
     "text": [
      "14.7 ms ± 325 µs per loop (mean ± std. dev. of 7 runs, 100 loops each)\n"
     ]
    }
   ],
   "source": [
    "%timeit test_marching_with_grid_cuda() # grid_binary shape 1"
   ]
  },
  {
   "cell_type": "code",
   "execution_count": 7,
   "id": "6e47e153-9232-49b5-85bc-e526166d1033",
   "metadata": {},
   "outputs": [
    {
     "name": "stdout",
     "output_type": "stream",
     "text": [
      "13.9 ms ± 66.5 µs per loop (mean ± std. dev. of 7 runs, 100 loops each)\n"
     ]
    }
   ],
   "source": [
    "%timeit test_marching_with_grid_cuda() #cuda"
   ]
  },
  {
   "cell_type": "code",
   "execution_count": 2,
   "id": "8e88c032-234e-4f98-bee2-7dae4d1ccc50",
   "metadata": {},
   "outputs": [],
   "source": [
    "import tinycudann as tcnn\n",
    "import numpy as np"
   ]
  },
  {
   "cell_type": "code",
   "execution_count": 3,
   "id": "4b239c38-1234-4798-8968-69e3aa0f3095",
   "metadata": {},
   "outputs": [],
   "source": [
    "# constants\n",
    "n_levels = 16\n",
    "targe_resolution = 1024\n",
    "base_resolution = 16\n",
    "b = np.exp(np.log(targe_resolution/base_resolution)/(n_levels-1))\n",
    "per_level_scale = b\n",
    "\n",
    "posi_encoder = tcnn.Encoding(\n",
    "    n_input_dims=3,\n",
    "    encoding_config={\n",
    "        \"otype\": \"HashGrid\",\n",
    "        \"n_levels\": n_levels,\n",
    "        \"n_features_per_level\": 2,\n",
    "        \"log2_hashmap_size\": 19,\n",
    "        \"base_resolution\": base_resolution,\n",
    "        \"per_level_scale\": 1.3195079565048218,\n",
    "    }\n",
    ")\n",
    "xyz_encoder = tcnn.Network(\n",
    "    n_input_dims=32, n_output_dims=16,\n",
    "    network_config={\n",
    "        \"otype\": \"FullyFusedMLP\",\n",
    "        \"activation\": \"ReLU\",\n",
    "        \"output_activation\": \"None\",\n",
    "        \"n_neurons\": 64,\n",
    "        \"n_hidden_layers\": 1,\n",
    "    }\n",
    ")"
   ]
  },
  {
   "cell_type": "code",
   "execution_count": 3,
   "id": "6689ff68-a70a-44f2-8766-181242786148",
   "metadata": {},
   "outputs": [
    {
     "data": {
      "text/plain": [
       "torch.Size([11445040])"
      ]
     },
     "execution_count": 3,
     "metadata": {},
     "output_type": "execute_result"
    }
   ],
   "source": [
    "posi_encoder.params.shape"
   ]
  },
  {
   "cell_type": "code",
   "execution_count": 9,
   "id": "331d3dbe-bebb-4e73-961f-336d3b1cd28e",
   "metadata": {},
   "outputs": [
    {
     "data": {
      "text/plain": [
       "1"
      ]
     },
     "execution_count": 9,
     "metadata": {},
     "output_type": "execute_result"
    }
   ],
   "source": [
    "31 %2"
   ]
  },
  {
   "cell_type": "code",
   "execution_count": 6,
   "id": "8b464806-7829-42bf-861c-87c0840bb205",
   "metadata": {},
   "outputs": [
    {
     "data": {
      "text/plain": [
       "torch.Size([11445040])"
      ]
     },
     "execution_count": 6,
     "metadata": {},
     "output_type": "execute_result"
    }
   ],
   "source": [
    "posi_encoder.params.shape"
   ]
  },
  {
   "cell_type": "code",
   "execution_count": 10,
   "id": "21eee42d-c6ce-45a3-80ad-28ff0d5e575f",
   "metadata": {},
   "outputs": [
    {
     "data": {
      "text/plain": [
       "32"
      ]
     },
     "execution_count": 10,
     "metadata": {},
     "output_type": "execute_result"
    }
   ],
   "source": [
    "xyz_encoder.native_tcnn_module.n_input_dims()"
   ]
  },
  {
   "cell_type": "code",
   "execution_count": 18,
   "id": "5923f2a8-e405-40ab-8a86-6dbe0e755c15",
   "metadata": {},
   "outputs": [
    {
     "name": "stdout",
     "output_type": "stream",
     "text": [
      "python per_level_scale: 1.3195079107728942\n",
      "tcnn per_level_scale: 1.3195079565048218\n"
     ]
    }
   ],
   "source": [
    "b_tcnn = posi_encoder.native_tcnn_module.hyperparams()['per_level_scale']\n",
    "print(f\"python per_level_scale: {b}\")\n",
    "print(f\"tcnn per_level_scale: {b_tcnn}\")"
   ]
  },
  {
   "cell_type": "code",
   "execution_count": 8,
   "id": "85a9745b-054d-4b37-8bf8-7be084f02bf0",
   "metadata": {},
   "outputs": [
    {
     "name": "stdout",
     "output_type": "stream",
     "text": [
      "524288\n"
     ]
    }
   ],
   "source": [
    "offset = 0\n",
    "max_params = 2**19\n",
    "for i in range(n_levels):\n",
    "    resolution = int(\n",
    "        np.ceil(\n",
    "            base_resolution * np.exp(\n",
    "                i*np.log(1.3195079565048218)\n",
    "            ) - 1.0\n",
    "        )\n",
    "    ) + 1\n",
    "    params_in_level = resolution ** 3\n",
    "    params_in_level = int(resolution ** 3) if params_in_level % 8 == 0 else int((params_in_level + 8 - 1) / 8) * 8\n",
    "    params_in_level = min(max_params, params_in_level)\n",
    "    offset += params_in_level\n",
    "    \n",
    "print(params_in_level)"
   ]
  },
  {
   "cell_type": "code",
   "execution_count": 4,
   "id": "6f0e4622-0c9a-4e24-abc5-e690a628685e",
   "metadata": {},
   "outputs": [
    {
     "data": {
      "text/plain": [
       "0.01"
      ]
     },
     "execution_count": 4,
     "metadata": {},
     "output_type": "execute_result"
    }
   ],
   "source": [
    "1e-2"
   ]
  },
  {
   "cell_type": "code",
   "execution_count": 4,
   "id": "65bd7c8a-7065-497b-bc6d-060709d6dda0",
   "metadata": {},
   "outputs": [
    {
     "name": "stdout",
     "output_type": "stream",
     "text": [
      "tcnn res: [16, 27, 45, 74, 123, 204, 338, 562, 934, 1553, 2581, 4290, 7132, 11857, 19711, 32769]\n",
      "python res: [16, 27, 45, 74, 123, 204, 338, 562, 934, 1553, 2581, 4290, 7132, 11857, 19711, 32768]\n"
     ]
    }
   ],
   "source": [
    "ress = []\n",
    "for i in range(n_levels):\n",
    "    ress.append(int(np.ceil(16 * np.exp(i*np.log(b_tcnn)) - 1.0)) + 1)\n",
    "    \n",
    "print(f\"tcnn res: {ress}\")\n",
    "\n",
    "ress = []\n",
    "for i in range(n_levels):\n",
    "    ress.append(int(np.ceil(16 * np.exp(i*np.log(b)) - 1.0)) + 1)\n",
    "    \n",
    "print(f\"python res: {ress}\")"
   ]
  },
  {
   "cell_type": "code",
   "execution_count": 14,
   "id": "253dfc06-e7fc-4f49-b778-291db612c953",
   "metadata": {},
   "outputs": [
    {
     "data": {
      "text/plain": [
       "torch.Size([12196240])"
      ]
     },
     "execution_count": 14,
     "metadata": {},
     "output_type": "execute_result"
    }
   ],
   "source": [
    "posi_encoder.params.shape"
   ]
  },
  {
   "cell_type": "code",
   "execution_count": 10,
   "id": "fae5e916-1abd-4213-a2ba-740fd61525f6",
   "metadata": {},
   "outputs": [
    {
     "data": {
      "text/plain": [
       "8576"
      ]
     },
     "execution_count": 10,
     "metadata": {},
     "output_type": "execute_result"
    }
   ],
   "source": [
    "3*64+64*64+64*64+64*3"
   ]
  },
  {
   "cell_type": "code",
   "execution_count": 70,
   "id": "ed2997ea-64f6-4941-881b-77713cfbab83",
   "metadata": {},
   "outputs": [
    {
     "data": {
      "text/plain": [
       "2097152"
      ]
     },
     "execution_count": 70,
     "metadata": {},
     "output_type": "execute_result"
    }
   ],
   "source": [
    "2**21"
   ]
  },
  {
   "cell_type": "code",
   "execution_count": 77,
   "id": "c1dcc8cf-ddf1-4693-8051-bb485189ed38",
   "metadata": {},
   "outputs": [
    {
     "data": {
      "text/plain": [
       "-12016"
      ]
     },
     "execution_count": 77,
     "metadata": {},
     "output_type": "execute_result"
    }
   ],
   "source": [
    "38**4 - 2**21"
   ]
  },
  {
   "cell_type": "code",
   "execution_count": 29,
   "id": "8a130ae2-410c-44c2-ba64-e408c5c0053d",
   "metadata": {},
   "outputs": [
    {
     "data": {
      "text/plain": [
       "13.0"
      ]
     },
     "execution_count": 29,
     "metadata": {},
     "output_type": "execute_result"
    }
   ],
   "source": [
    "26 / 2"
   ]
  },
  {
   "cell_type": "code",
   "execution_count": 50,
   "id": "ba19a73e-6f21-413d-80ec-f258da3e7993",
   "metadata": {},
   "outputs": [],
   "source": [
    "%matplotlib inline\n",
    "import matplotlib.pyplot as plt\n",
    "plt.rcParams['figure.dpi'] = 150\n",
    "from ipywidgets import interact, widgets\n",
    "from PIL import Image\n",
    "import glob\n",
    "\n",
    "import re\n",
    "def atoi(text):\n",
    "    return int(text) if text.isdigit() else text\n",
    "\n",
    "def natural_keys(text):\n",
    "    '''\n",
    "    alist.sort(key=natural_keys) sorts in human order\n",
    "    http://nedbatchelder.com/blog/200712/human_sorting.html\n",
    "    (See Toothy's implementation in the comments)\n",
    "    '''\n",
    "    return [ atoi(c) for c in re.split(r'(\\d+)', text) ]"
   ]
  },
  {
   "cell_type": "code",
   "execution_count": 51,
   "id": "b14e8fe2-1374-45e7-a995-4c52ca81476e",
   "metadata": {},
   "outputs": [],
   "source": [
    "def read_images(file_list):\n",
    "    images = []\n",
    "    for i in file_list:\n",
    "        images.append(Image.open(i))\n",
    "    \n",
    "    return images\n",
    "        \n",
    "        \n",
    "def browse_images(digits):\n",
    "    n = len(digits)\n",
    "    w = widgets.IntSlider(value=15, min=0, max=(n-1))\n",
    "    def view_image(x):\n",
    "        plt.imshow(digits[x], cmap=plt.cm.gray_r, interpolation='nearest')\n",
    "        plt.title(f'rgb_{x}.png')\n",
    "        plt.show()\n",
    "    interact(view_image, x=w)"
   ]
  },
  {
   "cell_type": "code",
   "execution_count": 55,
   "id": "9fae97b9-f0d0-4463-80d7-0a86b61b2ee6",
   "metadata": {},
   "outputs": [
    {
     "data": {
      "application/vnd.jupyter.widget-view+json": {
       "model_id": "a36873a74dcb4ea789a7cf4d7fb48ef8",
       "version_major": 2,
       "version_minor": 0
      },
      "text/plain": [
       "interactive(children=(IntSlider(value=15, description='x', max=19), Output()), _dom_classes=('widget-interact'…"
      ]
     },
     "metadata": {},
     "output_type": "display_data"
    }
   ],
   "source": [
    "root = \"/home/loyot/workspace/code/training_results/nerfacc/ngp_dnerf/trex/lr_0-01/hl1_pf_nopw_l-huber_dive1024.0_op_te_ta/rgb*.png\"\n",
    "images_list = glob.glob(root)\n",
    "images_list.sort(key=natural_keys)\n",
    "image_data = read_images(images_list)\n",
    "browse_images(image_data)"
   ]
  },
  {
   "cell_type": "code",
   "execution_count": 85,
   "id": "6a27fce9-7dba-4126-9297-669d0dd58a39",
   "metadata": {},
   "outputs": [
    {
     "data": {
      "application/vnd.jupyter.widget-view+json": {
       "model_id": "c073c82ae84449398c81b201b56e6448",
       "version_major": 2,
       "version_minor": 0
      },
      "text/plain": [
       "interactive(children=(IntSlider(value=0, description='x', max=20), Output()), _dom_classes=('widget-interact',…"
      ]
     },
     "metadata": {},
     "output_type": "display_data"
    }
   ],
   "source": [
    "root = \"/home/loyot/workspace/code/training_results/nerfacc/ngp_dnerf/trex/lr_0-01/pf_nopw_l-huber/training/rgb*.png\"\n",
    "images_list = glob.glob(root)\n",
    "images_list.sort(key=natural_keys)\n",
    "image_data = read_images(images_list)\n",
    "browse_images(image_data)"
   ]
  },
  {
   "cell_type": "code",
   "execution_count": 31,
   "id": "33e9098e-bfdd-4790-9d98-93a69c8f735b",
   "metadata": {},
   "outputs": [
    {
     "data": {
      "application/vnd.jupyter.widget-view+json": {
       "model_id": "88aa8527bc9c4f378316f7d132f0bc81",
       "version_major": 2,
       "version_minor": 0
      },
      "text/plain": [
       "interactive(children=(IntSlider(value=15, description='x', max=19), Output()), _dom_classes=('widget-interact'…"
      ]
     },
     "metadata": {},
     "output_type": "display_data"
    }
   ],
   "source": [
    "image_data = read_images(images_list)\n",
    "browse_images(image_data)"
   ]
  },
  {
   "cell_type": "code",
   "execution_count": 15,
   "id": "767b56a2-caa5-4705-9b0d-85ffc06cc9fb",
   "metadata": {},
   "outputs": [
    {
     "name": "stdout",
     "output_type": "stream",
     "text": [
      "[Taichi] Starting on arch=cuda\n"
     ]
    }
   ],
   "source": [
    "import taichi as ti\n",
    "import numpy as np\n",
    "ti.init(arch=ti.cuda)"
   ]
  },
  {
   "cell_type": "code",
   "execution_count": 13,
   "id": "5f67485c-dfbf-4d4b-83bd-83f94c7b0d0f",
   "metadata": {},
   "outputs": [],
   "source": [
    "@ti.func\n",
    "def scalbn(x, exponent):\n",
    "    return x * ti.math.pow(2, exponent)\n",
    "\n",
    "@ti.func\n",
    "def frexp_hard(x, base):\n",
    "    exponent = 0\n",
    "    start = base\n",
    "    for i in ti.static(range(6)):\n",
    "        # start = start * (2**i)\n",
    "        start_next = start * 2\n",
    "        if start <= x and x < start_next:\n",
    "            exponent = i+1\n",
    "            break\n",
    "        start = start_next\n",
    "    return exponent\n",
    "\n",
    "@ti.func\n",
    "def frexp_bit(x):\n",
    "    exponent = 0\n",
    "    if x != 0.0:\n",
    "        bits = ti.bit_cast(x, ti.u32)\n",
    "        # exponent = (ti.u32(bits >> 23)) & 0x7f\n",
    "        exponent = (ti.i32(bits & ti.u32(0x7f800000)) >> 23) - 127\n",
    "        bits &= ti.u32(0x7fffff)\n",
    "        bits |= ti.u32(0x3f800000)\n",
    "        frac = ti.bit_cast(bits, ti.f32)\n",
    "        print(\"exponent: \", exponent)\n",
    "        # print(\"frac: \", frac)\n",
    "        \n",
    "    return exponent\n",
    "\n",
    "@ti.func\n",
    "def frexp(x):\n",
    "    exponent = 0\n",
    "    if x != 0.0:\n",
    "        exponent = ti.i32(ti.math.log2(x)) + 1\n",
    "        frac = x / ti.pow(2, exponent)\n",
    "        ori = frac * ti.pow(2, exponent)\n",
    "        print(\"exponent: \", exponent)\n",
    "        print(\"frac: \", frac)\n",
    "        print(\"ori: \", ori)\n",
    "    return exponent\n",
    "\n",
    "# exponent = static_cast<int>(std::log2(std::abs(x))) + 1;\n",
    "#     x /= std::pow(2, exponent);\n",
    "\n",
    "@ti.func\n",
    "def mip_from_pos(xyz, cascades):\n",
    "    mx = ti.abs(xyz).max()\n",
    "    exponent = frexp_bit(mx)\n",
    "    return ti.min(cascades-1, ti.max(0, exponent+1))\n",
    "\n",
    "@ti.func\n",
    "def mip_from_dt(dt, grid_size, cascades):\n",
    "    exponent = frexp_bit(dt*grid_size)\n",
    "    return ti.min(cascades-1, ti.max(0, exponent))\n"
   ]
  },
  {
   "cell_type": "code",
   "execution_count": 14,
   "id": "6405f189-3561-412e-b0c2-79734c01d644",
   "metadata": {},
   "outputs": [
    {
     "name": "stdout",
     "output_type": "stream",
     "text": [
      "cascades:  6\n",
      "----mip_pos----\n",
      "exponent:  -1\n",
      "mip_pos:  0\n",
      "----mip_dt----\n",
      "exponent:  -1\n",
      "mip_dt:  0\n",
      "----final_mip----\n",
      "mip:  0\n"
     ]
    }
   ],
   "source": [
    "scale = 16\n",
    "x = ti.math.vec3(0.0689, 0.2918, 0.5009)\n",
    "dt = 0.0076\n",
    "grid_size = 128\n",
    "grid_size3 = grid_size*grid_size*grid_size\n",
    "cascades = max(1+int(np.ceil(np.log2(2*scale))), 1)\n",
    "print(\"cascades: \", cascades)\n",
    "@ti.kernel\n",
    "def test():\n",
    "    print(\"----mip_pos----\")\n",
    "    mip_pos = mip_from_pos(x, cascades)\n",
    "    print(\"mip_pos: \", mip_pos)\n",
    "    print(\"----mip_dt----\")\n",
    "    mip_dt = mip_from_dt(dt, grid_size, cascades)\n",
    "    print(\"mip_dt: \", mip_dt)\n",
    "    \n",
    "    mip = ti.max(mip_pos, mip_dt)\n",
    "    # mip_bound = ti.min(2**(mip-1), 16.0)\n",
    "    print(\"----final_mip----\")\n",
    "    print(\"mip: \", mip)\n",
    "    # print(\"mip_bound: \", mip_bound)\n",
    "#     print(\"idx_start: \", mip*grid_size3)\n",
    "    \n",
    "test()"
   ]
  },
  {
   "cell_type": "code",
   "execution_count": 7,
   "id": "bb557118-2405-4a0d-bd02-1e71a505bb04",
   "metadata": {},
   "outputs": [
    {
     "data": {
      "text/plain": [
       "0.9856"
      ]
     },
     "execution_count": 7,
     "metadata": {},
     "output_type": "execute_result"
    }
   ],
   "source": [
    "0.0077 * 128"
   ]
  },
  {
   "cell_type": "code",
   "execution_count": 1,
   "id": "9b3969f8-f7a9-4a6e-b31b-8e2f71dad628",
   "metadata": {},
   "outputs": [
    {
     "data": {
      "text/plain": [
       "0.9984"
      ]
     },
     "execution_count": 1,
     "metadata": {},
     "output_type": "execute_result"
    }
   ],
   "source": [
    "0.0078 * 128"
   ]
  },
  {
   "cell_type": "code",
   "execution_count": null,
   "id": "7ce2ef24-2637-46ae-b070-93e60624c801",
   "metadata": {},
   "outputs": [],
   "source": [
    "xyz_save_taichi = torch.([[ -3.3070,   1.5409,   3.1265],\n",
    "                   [ -6.2736,   1.6399,   7.3511],\n",
    "                   [-13.9541,   2.9160,  15.9904]])\n",
    "0.0202, 0.0378, 0.0769"
   ]
  },
  {
   "cell_type": "code",
   "execution_count": 5,
   "id": "0b571383-783b-4272-85d5-3217d5d8b7e0",
   "metadata": {},
   "outputs": [
    {
     "data": {
      "text/plain": [
       "12582912"
      ]
     },
     "execution_count": 5,
     "metadata": {},
     "output_type": "execute_result"
    }
   ],
   "source": [
    "grid_size3*6"
   ]
  },
  {
   "cell_type": "code",
   "execution_count": 19,
   "id": "6a9689f6-556e-4d41-99fa-9cd4b4bb5380",
   "metadata": {},
   "outputs": [
    {
     "name": "stdout",
     "output_type": "stream",
     "text": [
      "exponent:  -2\n"
     ]
    }
   ],
   "source": [
    "@ti.kernel\n",
    "def test_frexp():\n",
    "    exponent = frexp_bit(0.1)\n",
    "    print('exponent: ', exponent)\n",
    "\n",
    "test_frexp()"
   ]
  },
  {
   "cell_type": "code",
   "execution_count": 22,
   "id": "253dddc3-25a0-48ae-8ecf-354d645e6998",
   "metadata": {},
   "outputs": [
    {
     "data": {
      "text/plain": [
       "0.1"
      ]
     },
     "execution_count": 22,
     "metadata": {},
     "output_type": "execute_result"
    }
   ],
   "source": [
    "0.4*2**(-2)"
   ]
  },
  {
   "cell_type": "code",
   "execution_count": 21,
   "id": "6e728933-c8ec-4a1d-91b4-5d9a19cd1cb3",
   "metadata": {},
   "outputs": [
    {
     "name": "stdout",
     "output_type": "stream",
     "text": [
      "bits:  1066192077\n"
     ]
    }
   ],
   "source": [
    "@ti.kernel\n",
    "def test_bitcast():\n",
    "    bits = ti.bit_cast(1.1, ti.u32)\n",
    "    print(\"bits: \", bits)\n",
    "\n",
    "test_bitcast()"
   ]
  },
  {
   "cell_type": "code",
   "execution_count": null,
   "id": "ecc4d5d7-cac6-4780-927c-ce98a83887cf",
   "metadata": {},
   "outputs": [],
   "source": []
  }
 ],
 "metadata": {
  "kernelspec": {
   "display_name": "Python [conda env:torch_nightly]",
   "language": "python",
   "name": "conda-env-torch_nightly-py"
  },
  "language_info": {
   "codemirror_mode": {
    "name": "ipython",
    "version": 3
   },
   "file_extension": ".py",
   "mimetype": "text/x-python",
   "name": "python",
   "nbconvert_exporter": "python",
   "pygments_lexer": "ipython3",
   "version": "3.9.16"
  }
 },
 "nbformat": 4,
 "nbformat_minor": 5
}
