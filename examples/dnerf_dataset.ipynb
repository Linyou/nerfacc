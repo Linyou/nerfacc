{
 "cells": [
  {
   "cell_type": "code",
   "execution_count": 1,
   "id": "5c1a60de-08d5-4c32-b3ea-6e91d6f4a0fe",
   "metadata": {},
   "outputs": [
    {
     "name": "stderr",
     "output_type": "stream",
     "text": [
      "/home/loyot/anaconda3/envs/nerfacc/lib/python3.9/site-packages/tqdm/auto.py:22: TqdmWarning: IProgress not found. Please update jupyter and ipywidgets. See https://ipywidgets.readthedocs.io/en/stable/user_install.html\n",
      "  from .autonotebook import tqdm as notebook_tqdm\n"
     ]
    }
   ],
   "source": [
    "import argparse\n",
    "import math\n",
    "import os\n",
    "import time\n",
    "\n",
    "import imageio\n",
    "import numpy as np\n",
    "import torch\n",
    "import torch.nn.functional as F\n",
    "import tqdm\n",
    "from datasets.dnerf_synthetic import SubjectLoader\n",
    "from radiance_fields.mlp import DNeRFRadianceField\n",
    "from utils import render_image, set_random_seed\n",
    "\n",
    "from nerfacc import ContractionType, OccupancyGrid"
   ]
  },
  {
   "cell_type": "code",
   "execution_count": 2,
   "id": "a16b8d9a-e0e5-49e2-a103-9df0602c4afb",
   "metadata": {},
   "outputs": [],
   "source": [
    "device = \"cuda:0\"\n",
    "set_random_seed(42)\n",
    "\n",
    "parser = argparse.ArgumentParser()\n",
    "parser.add_argument(\n",
    "    \"--train_split\",\n",
    "    type=str,\n",
    "    default=\"train\",\n",
    "    choices=[\"train\"],\n",
    "    help=\"which train split to use\",\n",
    ")\n",
    "parser.add_argument(\n",
    "    \"--scene\",\n",
    "    type=str,\n",
    "    default=\"lego\",\n",
    "    choices=[\n",
    "        # dnerf\n",
    "        \"bouncingballs\",\n",
    "        \"hellwarrior\",\n",
    "        \"hook\",\n",
    "        \"jumpingjacks\",\n",
    "        \"lego\",\n",
    "        \"mutant\",\n",
    "        \"standup\",\n",
    "        \"trex\",\n",
    "    ],\n",
    "    help=\"which scene to use\",\n",
    ")\n",
    "parser.add_argument(\n",
    "    \"--aabb\",\n",
    "    type=lambda s: [float(item) for item in s.split(\",\")],\n",
    "    default=\"-1.5,-1.5,-1.5,1.5,1.5,1.5\",\n",
    "    help=\"delimited list input\",\n",
    ")\n",
    "parser.add_argument(\n",
    "    \"--test_chunk_size\",\n",
    "    type=int,\n",
    "    default=8192,\n",
    ")\n",
    "parser.add_argument(\"--cone_angle\", type=float, default=0.0)\n",
    "args = parser.parse_args([\"--train_split\", \"train\", \"--scene\", \"lego\"])"
   ]
  },
  {
   "cell_type": "code",
   "execution_count": 3,
   "id": "f015116b-2765-4787-8ec2-fbedc2898143",
   "metadata": {},
   "outputs": [],
   "source": [
    "render_n_samples = 1024\n",
    "\n",
    "# setup the scene bounding box.\n",
    "contraction_type = ContractionType.AABB\n",
    "scene_aabb = torch.tensor(args.aabb, dtype=torch.float32, device=device)\n",
    "near_plane = None\n",
    "far_plane = None\n",
    "render_step_size = (\n",
    "    (scene_aabb[3:] - scene_aabb[:3]).max()\n",
    "    * math.sqrt(3)\n",
    "    / render_n_samples\n",
    ").item()\n",
    "\n",
    "# setup the radiance field we want to train.\n",
    "max_steps = 30000\n",
    "grad_scaler = torch.cuda.amp.GradScaler(1)\n",
    "radiance_field = DNeRFRadianceField().to(device)\n",
    "optimizer = torch.optim.Adam(radiance_field.parameters(), lr=5e-4)\n",
    "scheduler = torch.optim.lr_scheduler.MultiStepLR(\n",
    "    optimizer,\n",
    "    milestones=[\n",
    "        max_steps // 2,\n",
    "        max_steps * 3 // 4,\n",
    "        max_steps * 5 // 6,\n",
    "        max_steps * 9 // 10,\n",
    "    ],\n",
    "    gamma=0.33,\n",
    ")\n",
    "# setup the dataset\n",
    "data_root_fp = \"/home/loyot/workspace/Datasets/NeRF/dynamic_data/\"\n",
    "target_sample_batch_size = 1 << 16\n",
    "grid_resolution = 128\n",
    "\n",
    "train_dataset = SubjectLoader(\n",
    "    subject_id=args.scene,\n",
    "    root_fp=data_root_fp,\n",
    "    split=args.train_split,\n",
    "    num_rays=target_sample_batch_size // render_n_samples,\n",
    ").to(device)\n",
    "\n",
    "test_dataset = SubjectLoader(\n",
    "    subject_id=args.scene,\n",
    "    root_fp=data_root_fp,\n",
    "    split=\"test\",\n",
    "    num_rays=None,\n",
    ").to(device)"
   ]
  },
  {
   "cell_type": "code",
   "execution_count": 4,
   "id": "04755e1e-bb8c-46d4-a9a1-cfd6363b1c44",
   "metadata": {},
   "outputs": [
    {
     "data": {
      "text/plain": [
       "tensor([[0.0000],\n",
       "        [0.0505],\n",
       "        [0.1010],\n",
       "        [0.1515],\n",
       "        [0.2020],\n",
       "        [0.2626],\n",
       "        [0.3131],\n",
       "        [0.3636],\n",
       "        [0.4141],\n",
       "        [0.4646],\n",
       "        [0.5253],\n",
       "        [0.5758],\n",
       "        [0.6263],\n",
       "        [0.6768],\n",
       "        [0.7273],\n",
       "        [0.7879],\n",
       "        [0.8384],\n",
       "        [0.8889],\n",
       "        [0.9394],\n",
       "        [1.0000]], device='cuda:0')"
      ]
     },
     "execution_count": 4,
     "metadata": {},
     "output_type": "execute_result"
    }
   ],
   "source": [
    "test_dataset.timestamps"
   ]
  },
  {
   "cell_type": "code",
   "execution_count": null,
   "id": "cf744599-054f-4e79-8629-b6e8f7718fa3",
   "metadata": {},
   "outputs": [],
   "source": []
  }
 ],
 "metadata": {
  "kernelspec": {
   "display_name": "Python [conda env:nerfacc]",
   "language": "python",
   "name": "conda-env-nerfacc-py"
  },
  "language_info": {
   "codemirror_mode": {
    "name": "ipython",
    "version": 3
   },
   "file_extension": ".py",
   "mimetype": "text/x-python",
   "name": "python",
   "nbconvert_exporter": "python",
   "pygments_lexer": "ipython3",
   "version": "3.9.13"
  }
 },
 "nbformat": 4,
 "nbformat_minor": 5
}
