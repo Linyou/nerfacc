{
 "cells": [
  {
   "cell_type": "code",
   "execution_count": 1,
   "id": "15100d93-85a0-4560-bf66-cd85a97f33a5",
   "metadata": {},
   "outputs": [],
   "source": [
    "root = \"/home/loyot/workspace/code/training_results/nerfacc/ngp_dnerf/trex/lr_0-01/pf_nopw_l-huber/psnr.txt\""
   ]
  },
  {
   "cell_type": "code",
   "execution_count": 2,
   "id": "930664bb-df0a-40a1-b750-b626db6eebab",
   "metadata": {},
   "outputs": [],
   "source": [
    "file = open(root, 'r')"
   ]
  },
  {
   "cell_type": "code",
   "execution_count": 3,
   "id": "79f07807-4788-4deb-98a9-65e03db31524",
   "metadata": {},
   "outputs": [
    {
     "data": {
      "text/plain": [
       "['29.89353\\n',\n",
       " '32.13136\\n',\n",
       " '31.00624\\n',\n",
       " '32.48343\\n',\n",
       " '31.74388\\n',\n",
       " '34.81839\\n',\n",
       " '38.38878\\n',\n",
       " '40.24781\\n',\n",
       " '39.99679\\n',\n",
       " '40.20515\\n',\n",
       " '39.72198\\n',\n",
       " '38.06150\\n',\n",
       " '38.72496\\n',\n",
       " '39.42334\\n',\n",
       " '36.17223\\n',\n",
       " '31.54995\\n',\n",
       " '31.42559\\n',\n",
       " '29.59473\\n',\n",
       " '29.20894\\n',\n",
       " '26.05914\\n',\n",
       " 'mean: 34.542886638641356']"
      ]
     },
     "execution_count": 3,
     "metadata": {},
     "output_type": "execute_result"
    }
   ],
   "source": [
    "file.readlines()"
   ]
  },
  {
   "cell_type": "code",
   "execution_count": null,
   "id": "4c3ea012",
   "metadata": {},
   "outputs": [],
   "source": [
    "results_root = '/home/loyot/workspace/code/training_results/nerfacc'\n",
    "model = 'ngp_dnerf'\n",
    "scenes=[\"bouncingballs\", \"hellwarrior\", \"hook\", \"jumpingjacks\", \"lego\", \"mutant\", \"standup\", \"trex\"]"
   ]
  },
  {
   "cell_type": "code",
   "execution_count": null,
   "id": "776b05ee-6648-4b7f-85ad-a8a29cac607a",
   "metadata": {},
   "outputs": [],
   "source": [
    "for lr_n in [0.01,]:\n",
    "    lr = 'lr_' + str(lr_n).replace('.', '-')\n",
    "    feats = ['nopf_nopw_l-huber', 'nopf_nopw_l-huber_op', 'pf_nopw_l-huber_op']\n",
    "    for feat in feats:\n",
    "        print(f\"lr: {lr_n}, feat: {feat}\")\n",
    "        psnrs = []\n",
    "        for scene in scenes:\n",
    "            scene_dir = f'{results_root}/{model}/{scene}/{lr}/{feat}/psnr.txt'\n",
    "            with open(scene_dir, 'r') as f:\n",
    "                data = f.readlines()\n",
    "                for d in data:\n",
    "                    if 'mean' in d:\n",
    "                        psnrs.append(float(d.split(' ')[-1]))\n",
    "        avg = sum(psnrs) / len(psnrs)\n",
    "        cat_psnrs = [f'{scenes[i]}: {psnrs[i]:.5f}, 'for i in range(len(scenes))]\n",
    "\n",
    "        cat_psnrs_str = ''\n",
    "        for p in cat_psnrs:\n",
    "            cat_psnrs_str+=p\n",
    "        print(f'{cat_psnrs_str}')\n",
    "\n",
    "        print(f'{results_root}/{model}/{scene}/{lr}/{feat}-avg psnr: {avg}')"
   ]
  },
  {
   "cell_type": "code",
   "execution_count": 15,
   "id": "2dda6425",
   "metadata": {},
   "outputs": [],
   "source": [
    "from glob import glob\n",
    "import re\n",
    "def atoi(text):\n",
    "    return int(text) if text.isdigit() else text\n",
    "\n",
    "def natural_keys(text):\n",
    "    '''\n",
    "    alist.sort(key=natural_keys) sorts in human order\n",
    "    http://nedbatchelder.com/blog/200712/human_sorting.html\n",
    "    (See Toothy's implementation in the comments)\n",
    "    '''\n",
    "    return [ atoi(c) for c in re.split(r'(\\d+)', text) ]"
   ]
  },
  {
   "cell_type": "code",
   "execution_count": 22,
   "id": "ca7ee576",
   "metadata": {},
   "outputs": [],
   "source": [
    "file_llist = glob('/home/loyot/workspace/code/training_results/nerfacc/ngp_dnerf/trex/lr_0-01/hl2*dive*')"
   ]
  },
  {
   "cell_type": "code",
   "execution_count": 23,
   "id": "669fe243",
   "metadata": {},
   "outputs": [],
   "source": [
    "ff = [f.split('/')[-1] for f in file_llist]"
   ]
  },
  {
   "cell_type": "code",
   "execution_count": 24,
   "id": "5ec5119c",
   "metadata": {},
   "outputs": [],
   "source": [
    "ff.sort(key=natural_keys)"
   ]
  },
  {
   "cell_type": "code",
   "execution_count": 25,
   "id": "8198f3b6",
   "metadata": {},
   "outputs": [
    {
     "data": {
      "text/plain": [
       "['hl2_pf_nopw_l-huber_dive64.0_op_te_ta',\n",
       " 'hl2_pf_nopw_l-huber_dive128.0_op_te_ta',\n",
       " 'hl2_pf_nopw_l-huber_dive256.0_op_te_ta',\n",
       " 'hl2_pf_nopw_l-huber_dive512.0_op_te_ta',\n",
       " 'hl2_pf_nopw_l-huber_dive1024.0_op_te_ta',\n",
       " 'hl2_pf_nopw_l-huber_dive2048.0_op_te_ta',\n",
       " 'hl2_pf_nopw_l-huber_dive4096.0_op_te_ta',\n",
       " 'hl2_pf_nopw_l-huber_dive8192.0_op_te_ta']"
      ]
     },
     "execution_count": 25,
     "metadata": {},
     "output_type": "execute_result"
    }
   ],
   "source": [
    "ff"
   ]
  },
  {
   "cell_type": "code",
   "execution_count": null,
   "id": "f669a42b",
   "metadata": {},
   "outputs": [],
   "source": [
    "coffee: psnr_avg=27.419046783447264, ssim_avg=0.8726167678833008, msssim_avg=0.9345811605453491, lpip_avg=0.27257052063941956\n",
    "cook_spinach: psnr_avg=31.75511302947998, ssim_avg=0.9323310256004333, msssim_avg=0.9613650441169739, lpip_avg=0.22453726828098297\n",
    "cut_roasted_beef: psnr_avg=31.96387424468994, ssim_avg=0.9302668571472168, msssim_avg=0.9614613056182861, lpip_avg=0.23592782020568848\n",
    "flame_salmon_1: psnr_avg=28.532567024230957, ssim_avg=0.8906673789024353, msssim_avg=0.9471074342727661, lpip_avg=0.2429152876138687\n",
    "flame_steak: psnr_avg=31.922903378804524, ssim_avg=0.9411875009536743, msssim_avg=0.9675465822219849, lpip_avg=0.2136204093694687\n",
    "sear_steak: psnr_avg=32.498022588094074, ssim_avg=0.9439652562141418, msssim_avg=0.9698371887207031, lpip_avg=0.20779483020305634"
   ]
  },
  {
   "cell_type": "code",
   "execution_count": 3,
   "id": "0c88a218-ab6c-4037-9274-9ea6917bbbeb",
   "metadata": {},
   "outputs": [],
   "source": [
    "psnr_avg=27.419046783447264\n",
    "ssim_avg=0.8726167678833008\n",
    "msssim_avg=0.9345811605453491\n",
    "lpip_avg=0.27257052063941956"
   ]
  },
  {
   "cell_type": "code",
   "execution_count": 4,
   "id": "30d5816b-d852-4aca-9c32-43d9bd0c4cc2",
   "metadata": {},
   "outputs": [],
   "source": [
    "psnr_avg+=31.75511302947998\n",
    "ssim_avg+=0.9323310256004333\n",
    "msssim_avg+=0.9613650441169739\n",
    "lpip_avg+=0.22453726828098297"
   ]
  },
  {
   "cell_type": "code",
   "execution_count": 5,
   "id": "1ead35ad-021d-4e06-8f99-a38caaee1909",
   "metadata": {},
   "outputs": [],
   "source": [
    "psnr_avg+=31.96387424468994\n",
    "ssim_avg+=0.9302668571472168\n",
    "msssim_avg+=0.9614613056182861\n",
    "lpip_avg+=0.23592782020568848"
   ]
  },
  {
   "cell_type": "code",
   "execution_count": 6,
   "id": "ed117fdc-abc6-4053-b04d-2198d7885ff9",
   "metadata": {},
   "outputs": [],
   "source": [
    "psnr_avg+=28.532567024230957\n",
    "ssim_avg+=0.8906673789024353\n",
    "msssim_avg+=0.9471074342727661\n",
    "lpip_avg+=0.2429152876138687"
   ]
  },
  {
   "cell_type": "code",
   "execution_count": 7,
   "id": "d91d6f35-10dd-48c9-b07a-ddb1530ba423",
   "metadata": {},
   "outputs": [],
   "source": [
    "psnr_avg+=31.922903378804524\n",
    "ssim_avg+=0.9411875009536743\n",
    "msssim_avg+=0.9675465822219849\n",
    "lpip_avg+=0.2136204093694687"
   ]
  },
  {
   "cell_type": "code",
   "execution_count": 8,
   "id": "b6272d47-3f52-4233-b213-23620f940a77",
   "metadata": {},
   "outputs": [],
   "source": [
    "psnr_avg+=32.498022588094074\n",
    "ssim_avg+=0.9439652562141418\n",
    "msssim_avg+=0.9698371887207031\n",
    "lpip_avg+=0.20779483020305634"
   ]
  },
  {
   "cell_type": "code",
   "execution_count": 9,
   "id": "bcb5cedd-f8e1-4e3e-b5eb-9d6e07fed202",
   "metadata": {},
   "outputs": [
    {
     "data": {
      "text/plain": [
       "30.681921174791125"
      ]
     },
     "execution_count": 9,
     "metadata": {},
     "output_type": "execute_result"
    }
   ],
   "source": [
    "psnr_avg / 6"
   ]
  },
  {
   "cell_type": "code",
   "execution_count": 10,
   "id": "30968482-2c0d-407a-9683-3bbf6d222db1",
   "metadata": {},
   "outputs": [
    {
     "data": {
      "text/plain": [
       "0.9185057977835337"
      ]
     },
     "execution_count": 10,
     "metadata": {},
     "output_type": "execute_result"
    }
   ],
   "source": [
    "ssim_avg / 6"
   ]
  },
  {
   "cell_type": "code",
   "execution_count": 11,
   "id": "50157253-c08c-4b6b-9179-25ba9be3cb27",
   "metadata": {},
   "outputs": [],
   "source": [
    "psnr = 21.3 + 22.2 + 28.1 + 24.9 \n",
    "ssim = 0.620 + 0.805 + 0.929 + 0.871"
   ]
  },
  {
   "cell_type": "code",
   "execution_count": 12,
   "id": "d17eb184-302a-478b-9551-bde5d9208a42",
   "metadata": {},
   "outputs": [
    {
     "data": {
      "text/plain": [
       "24.125"
      ]
     },
     "execution_count": 12,
     "metadata": {},
     "output_type": "execute_result"
    }
   ],
   "source": [
    "psnr / 4"
   ]
  },
  {
   "cell_type": "code",
   "execution_count": 13,
   "id": "6509a4e9-eb31-49f6-8009-f8656c3c689a",
   "metadata": {},
   "outputs": [
    {
     "data": {
      "text/plain": [
       "0.80625"
      ]
     },
     "execution_count": 13,
     "metadata": {},
     "output_type": "execute_result"
    }
   ],
   "source": [
    "ssim / 4"
   ]
  },
  {
   "cell_type": "code",
   "execution_count": null,
   "id": "a2a83d27-7a30-4238-85ea-f400329b7c5b",
   "metadata": {},
   "outputs": [],
   "source": [
    "scenes = []"
   ]
  },
  {
   "cell_type": "code",
   "execution_count": 1,
   "id": "8815587d-8f02-4daf-9462-a34ce57bdf61",
   "metadata": {},
   "outputs": [
    {
     "name": "stderr",
     "output_type": "stream",
     "text": [
      "/home/loyot/anaconda3/envs/nerfacc/lib/python3.9/site-packages/torchvision/models/_utils.py:208: UserWarning: The parameter 'pretrained' is deprecated since 0.13 and may be removed in the future, please use 'weights' instead.\n",
      "  warnings.warn(\n",
      "/home/loyot/anaconda3/envs/nerfacc/lib/python3.9/site-packages/torchvision/models/_utils.py:223: UserWarning: Arguments other than a weight enum or `None` for 'weights' are deprecated since 0.13 and may be removed in the future. The current behavior is equivalent to passing `weights=VGG16_Weights.IMAGENET1K_V1`. You can also use `weights=VGG16_Weights.DEFAULT` to get the most up-to-date weights.\n",
      "  warnings.warn(msg)\n"
     ]
    }
   ],
   "source": [
    "from datasets.dnerf_synthetic import SubjectLoader\n",
    "from torch import Tensor\n",
    "from einops import rearrange\n",
    "import torch\n",
    "import numpy as np\n",
    "import torch.nn.functional as F\n",
    "# metrics\n",
    "from torchmetrics import (\n",
    "    PeakSignalNoiseRatio, \n",
    "    StructuralSimilarityIndexMeasure,\n",
    "    MultiScaleStructuralSimilarityIndexMeasure\n",
    ")\n",
    "import glob\n",
    "from einops import rearrange\n",
    "import imageio\n",
    "from tqdm import tqdm \n",
    "import re\n",
    "from torchmetrics.image.lpip import LearnedPerceptualImagePatchSimilarity\n",
    "data_root_fp = \"/home/loyot/workspace/Datasets/NeRF/dynamic_data/\"\n",
    "test_dataset_kwargs = {}\n",
    "device = torch.device('cuda')\n",
    "val_ssim = StructuralSimilarityIndexMeasure(data_range=1).to(device)\n",
    "val_msssim = MultiScaleStructuralSimilarityIndexMeasure().to(device)\n",
    "val_lpips = LearnedPerceptualImagePatchSimilarity('vgg').to(device)"
   ]
  },
  {
   "cell_type": "code",
   "execution_count": 2,
   "id": "476d8c2c-6978-4316-b885-565dd5a0517e",
   "metadata": {},
   "outputs": [],
   "source": [
    "scenes = [            \n",
    "    \"bouncingballs\",\n",
    "    \"hellwarrior\",\n",
    "    \"hook\",\n",
    "    \"jumpingjacks\",\n",
    "    \"lego\",\n",
    "    \"mutant\",\n",
    "    \"standup\",\n",
    "    \"trex\"\n",
    "]"
   ]
  },
  {
   "cell_type": "code",
   "execution_count": 8,
   "id": "60879db7-6680-4bb3-b587-0f0c99078645",
   "metadata": {},
   "outputs": [
    {
     "name": "stderr",
     "output_type": "stream",
     "text": [
      "  0%|          | 0/20 [00:00<?, ?it/s]/tmp/ipykernel_3980949/4288193158.py:42: DeprecationWarning: Starting with ImageIO v3 the behavior of this function will switch to that of iio.v3.imread. To keep the current behavior (and make this warning disappear) use `import imageio.v2 as imageio` or call `imageio.v2.imread` directly.\n",
      "  rgb = torch.from_numpy(imageio.imread(images[i])).to(torch.uint8).to(device) / 255.0\n",
      "100%|██████████| 20/20 [00:00<00:00, 20.33it/s]\n"
     ]
    },
    {
     "name": "stdout",
     "output_type": "stream",
     "text": [
      "scene: bouncingballs evaluation: psnr_avg=42.227471923828126, ssim_avg=0.9941335916519165, msssim_avg=0.9963599443435669, lpip_avg=0.033132508397102356\n"
     ]
    },
    {
     "name": "stderr",
     "output_type": "stream",
     "text": [
      "100%|██████████| 20/20 [00:00<00:00, 20.24it/s]\n"
     ]
    },
    {
     "name": "stdout",
     "output_type": "stream",
     "text": [
      "scene: hellwarrior evaluation: psnr_avg=26.778472423553467, ssim_avg=0.9580456018447876, msssim_avg=0.9742152094841003, lpip_avg=0.08111190050840378\n"
     ]
    },
    {
     "name": "stderr",
     "output_type": "stream",
     "text": [
      "100%|██████████| 20/20 [00:00<00:00, 20.37it/s]\n"
     ]
    },
    {
     "name": "stdout",
     "output_type": "stream",
     "text": [
      "scene: hook evaluation: psnr_avg=31.65921993255615, ssim_avg=0.9713651537895203, msssim_avg=0.9880037307739258, lpip_avg=0.04517165943980217\n"
     ]
    },
    {
     "name": "stderr",
     "output_type": "stream",
     "text": [
      "100%|██████████| 20/20 [00:00<00:00, 20.44it/s]\n"
     ]
    },
    {
     "name": "stdout",
     "output_type": "stream",
     "text": [
      "scene: jumpingjacks evaluation: psnr_avg=32.625663375854494, ssim_avg=0.9768322110176086, msssim_avg=0.9869292378425598, lpip_avg=0.04896053299307823\n"
     ]
    },
    {
     "name": "stderr",
     "output_type": "stream",
     "text": [
      "100%|██████████| 20/20 [00:01<00:00, 19.75it/s]\n"
     ]
    },
    {
     "name": "stdout",
     "output_type": "stream",
     "text": [
      "scene: lego evaluation: psnr_avg=24.66441993713379, ssim_avg=0.9362611174583435, msssim_avg=0.9498805999755859, lpip_avg=0.06924398243427277\n"
     ]
    },
    {
     "name": "stderr",
     "output_type": "stream",
     "text": [
      "100%|██████████| 20/20 [00:00<00:00, 20.41it/s]\n"
     ]
    },
    {
     "name": "stdout",
     "output_type": "stream",
     "text": [
      "scene: mutant evaluation: psnr_avg=37.054986572265626, ssim_avg=0.9887149930000305, msssim_avg=0.9966762661933899, lpip_avg=0.016322873532772064\n"
     ]
    },
    {
     "name": "stderr",
     "output_type": "stream",
     "text": [
      "100%|██████████| 20/20 [00:00<00:00, 20.69it/s]\n"
     ]
    },
    {
     "name": "stdout",
     "output_type": "stream",
     "text": [
      "scene: standup evaluation: psnr_avg=36.05426988601685, ssim_avg=0.9854888916015625, msssim_avg=0.9943702816963196, lpip_avg=0.022007109597325325\n"
     ]
    },
    {
     "name": "stderr",
     "output_type": "stream",
     "text": [
      "100%|██████████| 20/20 [00:00<00:00, 20.51it/s]"
     ]
    },
    {
     "name": "stdout",
     "output_type": "stream",
     "text": [
      "scene: trex evaluation: psnr_avg=33.09398078918457, ssim_avg=0.9800648093223572, msssim_avg=0.9889249205589294, lpip_avg=0.034759894013404846\n",
      "final evaluation: psnr_avg=33.01981060504913, ssim_avg=0.9738633036613464, msssim_avg=0.9844200611114502, lpip_avg=0.043838806450366974\n"
     ]
    },
    {
     "name": "stderr",
     "output_type": "stream",
     "text": [
      "\n"
     ]
    }
   ],
   "source": [
    "psnr_avgs = []\n",
    "ssim_avgs = []\n",
    "msssim_avgs = []\n",
    "lpip_avgs = []\n",
    "\n",
    "for scene in scenes:\n",
    "    \n",
    "    test_dataset = SubjectLoader(\n",
    "        subject_id=scene,\n",
    "        root_fp=data_root_fp,\n",
    "        split=\"test\",\n",
    "        num_rays=None,\n",
    "        **test_dataset_kwargs,\n",
    "    )\n",
    "    \n",
    "    feat_data_dir = \"nopf_nopw_l-huber/\"\n",
    "    images = glob.glob(f\"/home/loyot/workspace/code/training_results/nerfacc/ngp_dnerf/{scene}/lr_0-01/\" + feat_data_dir+ \"rgb_*\")\n",
    "    \n",
    "    def atoi(text):\n",
    "        return int(text) if text.isdigit() else text\n",
    "\n",
    "    def natural_keys(text):\n",
    "        '''\n",
    "        alist.sort(key=natural_keys) sorts in human order\n",
    "        http://nedbatchelder.com/blog/200712/human_sorting.html\n",
    "        (See Toothy's implementation in the comments)\n",
    "        '''\n",
    "        return [ atoi(c) for c in re.split(r'(\\d+)', text) ]\n",
    "\n",
    "    images.sort(key=natural_keys)\n",
    "    \n",
    "    psnrs = []\n",
    "    ssims = []\n",
    "    msssims = []\n",
    "    lpips = []\n",
    "    for i in tqdm(range(len(test_dataset))):\n",
    "    # for data in test_dataloader:\n",
    "        data = test_dataset[i]\n",
    "        # rays = data[\"rays\"]\n",
    "        pixels = data[\"pixels\"].to(device)\n",
    "        # read images\n",
    "        rgb = torch.from_numpy(imageio.imread(images[i])).to(torch.uint8).to(device) / 255.0\n",
    "\n",
    "        mse = F.mse_loss(rgb, pixels)\n",
    "        psnr = -10.0 * torch.log(mse) / np.log(10.0)\n",
    "        psnrs.append(psnr.item())\n",
    "\n",
    "        rgb_pred = rearrange(rgb, 'h w c -> 1 c h w', h=rgb.shape[0])\n",
    "        rgb_gt = rearrange(pixels, 'h w c -> 1 c h w', h=pixels.shape[0])\n",
    "\n",
    "        val_ssim(rgb_pred, rgb_gt)\n",
    "        ssim = val_ssim.compute()\n",
    "        ssims.append(ssim)\n",
    "        val_ssim.reset()\n",
    "\n",
    "        val_msssim(rgb_pred, rgb_gt)\n",
    "        msssim = val_msssim.compute()\n",
    "        msssims.append(msssim)\n",
    "        val_msssim.reset()\n",
    "\n",
    "        val_lpips(torch.clip(rgb_pred*2-1, -1, 1),\n",
    "                    torch.clip(rgb_gt*2-1, -1, 1))\n",
    "        lpip = val_lpips.compute()\n",
    "        lpips.append(lpip)\n",
    "        val_lpips.reset()\n",
    "\n",
    "\n",
    "    psnr_avg = sum(psnrs) / len(psnrs)\n",
    "    ssim_avg = sum(ssims) / len(ssims)\n",
    "    msssim_avg = sum(msssims) / len(msssims)\n",
    "    lpip_avg = sum(lpips) / len(lpips)\n",
    "    psnr_avgs.append(psnr_avg)\n",
    "    ssim_avgs.append(ssim_avg)\n",
    "    msssim_avgs.append(msssim_avg)\n",
    "    lpip_avgs.append(lpip_avg)\n",
    "    perf=f\"scene: {scene} evaluation: psnr_avg={psnr_avg}, ssim_avg={ssim_avg}, msssim_avg={msssim_avg}, lpip_avg={lpip_avg}\"\n",
    "    print(perf)\n",
    "    \n",
    "psnr_avg_scene = sum(psnr_avgs) / len(psnr_avgs)\n",
    "ssim_avg_scene = sum(ssim_avgs) / len(ssim_avgs)\n",
    "msssim_avg_scene = sum(msssim_avgs) / len(msssim_avgs)\n",
    "lpip_avg_scene = sum(lpip_avgs) / len(lpip_avgs)\n",
    "perf=f\"final evaluation: psnr_avg={psnr_avg_scene}, ssim_avg={ssim_avg_scene}, msssim_avg={msssim_avg_scene}, lpip_avg={lpip_avg_scene}\"\n",
    "print(perf)"
   ]
  },
  {
   "cell_type": "code",
   "execution_count": null,
   "id": "75141e87-b8f3-492f-ad08-95229aa5b0e0",
   "metadata": {},
   "outputs": [],
   "source": []
  }
 ],
 "metadata": {
  "kernelspec": {
   "display_name": "Python [conda env:nerfacc]",
   "language": "python",
   "name": "conda-env-nerfacc-py"
  },
  "language_info": {
   "codemirror_mode": {
    "name": "ipython",
    "version": 3
   },
   "file_extension": ".py",
   "mimetype": "text/x-python",
   "name": "python",
   "nbconvert_exporter": "python",
   "pygments_lexer": "ipython3",
   "version": "3.9.13"
  },
  "vscode": {
   "interpreter": {
    "hash": "bdc5c2d0e21a510627c7c0e521ac3deb474e2ecde23607639b19b4bb9e82177e"
   }
  }
 },
 "nbformat": 4,
 "nbformat_minor": 5
}
