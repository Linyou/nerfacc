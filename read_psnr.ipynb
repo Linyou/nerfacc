{
 "cells": [
  {
   "cell_type": "code",
   "execution_count": 1,
   "id": "15100d93-85a0-4560-bf66-cd85a97f33a5",
   "metadata": {},
   "outputs": [],
   "source": [
    "root = \"/home/loyot/workspace/code/training_results/nerfacc/ngp_dnerf/trex/lr_0-01/pf_nopw_l-huber/psnr.txt\""
   ]
  },
  {
   "cell_type": "code",
   "execution_count": 2,
   "id": "930664bb-df0a-40a1-b750-b626db6eebab",
   "metadata": {},
   "outputs": [],
   "source": [
    "file = open(root, 'r')"
   ]
  },
  {
   "cell_type": "code",
   "execution_count": 3,
   "id": "79f07807-4788-4deb-98a9-65e03db31524",
   "metadata": {},
   "outputs": [
    {
     "data": {
      "text/plain": [
       "['29.89353\\n',\n",
       " '32.13136\\n',\n",
       " '31.00624\\n',\n",
       " '32.48343\\n',\n",
       " '31.74388\\n',\n",
       " '34.81839\\n',\n",
       " '38.38878\\n',\n",
       " '40.24781\\n',\n",
       " '39.99679\\n',\n",
       " '40.20515\\n',\n",
       " '39.72198\\n',\n",
       " '38.06150\\n',\n",
       " '38.72496\\n',\n",
       " '39.42334\\n',\n",
       " '36.17223\\n',\n",
       " '31.54995\\n',\n",
       " '31.42559\\n',\n",
       " '29.59473\\n',\n",
       " '29.20894\\n',\n",
       " '26.05914\\n',\n",
       " 'mean: 34.542886638641356']"
      ]
     },
     "execution_count": 3,
     "metadata": {},
     "output_type": "execute_result"
    }
   ],
   "source": [
    "file.readlines()"
   ]
  },
  {
   "cell_type": "code",
   "execution_count": null,
   "id": "776b05ee-6648-4b7f-85ad-a8a29cac607a",
   "metadata": {},
   "outputs": [],
   "source": []
  }
 ],
 "metadata": {
  "kernelspec": {
   "display_name": "Python [conda env:nerfacc]",
   "language": "python",
   "name": "conda-env-nerfacc-py"
  },
  "language_info": {
   "codemirror_mode": {
    "name": "ipython",
    "version": 3
   },
   "file_extension": ".py",
   "mimetype": "text/x-python",
   "name": "python",
   "nbconvert_exporter": "python",
   "pygments_lexer": "ipython3",
   "version": "3.9.13"
  }
 },
 "nbformat": 4,
 "nbformat_minor": 5
}
