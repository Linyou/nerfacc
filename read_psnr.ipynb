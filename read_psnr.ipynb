{
 "cells": [
  {
   "cell_type": "code",
   "execution_count": 1,
   "id": "15100d93-85a0-4560-bf66-cd85a97f33a5",
   "metadata": {},
   "outputs": [],
   "source": [
    "root = \"/home/loyot/workspace/code/training_results/nerfacc/ngp_dnerf/trex/lr_0-01/pf_nopw_l-huber/psnr.txt\""
   ]
  },
  {
   "cell_type": "code",
   "execution_count": 2,
   "id": "930664bb-df0a-40a1-b750-b626db6eebab",
   "metadata": {},
   "outputs": [],
   "source": [
    "file = open(root, 'r')"
   ]
  },
  {
   "cell_type": "code",
   "execution_count": 3,
   "id": "79f07807-4788-4deb-98a9-65e03db31524",
   "metadata": {},
   "outputs": [
    {
     "data": {
      "text/plain": [
       "['29.89353\\n',\n",
       " '32.13136\\n',\n",
       " '31.00624\\n',\n",
       " '32.48343\\n',\n",
       " '31.74388\\n',\n",
       " '34.81839\\n',\n",
       " '38.38878\\n',\n",
       " '40.24781\\n',\n",
       " '39.99679\\n',\n",
       " '40.20515\\n',\n",
       " '39.72198\\n',\n",
       " '38.06150\\n',\n",
       " '38.72496\\n',\n",
       " '39.42334\\n',\n",
       " '36.17223\\n',\n",
       " '31.54995\\n',\n",
       " '31.42559\\n',\n",
       " '29.59473\\n',\n",
       " '29.20894\\n',\n",
       " '26.05914\\n',\n",
       " 'mean: 34.542886638641356']"
      ]
     },
     "execution_count": 3,
     "metadata": {},
     "output_type": "execute_result"
    }
   ],
   "source": [
    "file.readlines()"
   ]
  },
  {
   "cell_type": "code",
   "execution_count": null,
   "id": "4c3ea012",
   "metadata": {},
   "outputs": [],
   "source": [
    "results_root = '/home/loyot/workspace/code/training_results/nerfacc'\n",
    "model = 'ngp_dnerf'\n",
    "scenes=[\"bouncingballs\", \"hellwarrior\", \"hook\", \"jumpingjacks\", \"lego\", \"mutant\", \"standup\", \"trex\"]"
   ]
  },
  {
   "cell_type": "code",
   "execution_count": null,
   "id": "776b05ee-6648-4b7f-85ad-a8a29cac607a",
   "metadata": {},
   "outputs": [],
   "source": [
    "for lr_n in [0.01,]:\n",
    "    lr = 'lr_' + str(lr_n).replace('.', '-')\n",
    "    feats = ['nopf_nopw_l-huber', 'nopf_nopw_l-huber_op', 'pf_nopw_l-huber_op']\n",
    "    for feat in feats:\n",
    "        print(f\"lr: {lr_n}, feat: {feat}\")\n",
    "        psnrs = []\n",
    "        for scene in scenes:\n",
    "            scene_dir = f'{results_root}/{model}/{scene}/{lr}/{feat}/psnr.txt'\n",
    "            with open(scene_dir, 'r') as f:\n",
    "                data = f.readlines()\n",
    "                for d in data:\n",
    "                    if 'mean' in d:\n",
    "                        psnrs.append(float(d.split(' ')[-1]))\n",
    "        avg = sum(psnrs) / len(psnrs)\n",
    "        cat_psnrs = [f'{scenes[i]}: {psnrs[i]:.5f}, 'for i in range(len(scenes))]\n",
    "\n",
    "        cat_psnrs_str = ''\n",
    "        for p in cat_psnrs:\n",
    "            cat_psnrs_str+=p\n",
    "        print(f'{cat_psnrs_str}')\n",
    "\n",
    "        print(f'{results_root}/{model}/{scene}/{lr}/{feat}-avg psnr: {avg}')"
   ]
  },
  {
   "cell_type": "code",
   "execution_count": 15,
   "id": "2dda6425",
   "metadata": {},
   "outputs": [],
   "source": [
    "from glob import glob\n",
    "import re\n",
    "def atoi(text):\n",
    "    return int(text) if text.isdigit() else text\n",
    "\n",
    "def natural_keys(text):\n",
    "    '''\n",
    "    alist.sort(key=natural_keys) sorts in human order\n",
    "    http://nedbatchelder.com/blog/200712/human_sorting.html\n",
    "    (See Toothy's implementation in the comments)\n",
    "    '''\n",
    "    return [ atoi(c) for c in re.split(r'(\\d+)', text) ]"
   ]
  },
  {
   "cell_type": "code",
   "execution_count": 22,
   "id": "ca7ee576",
   "metadata": {},
   "outputs": [],
   "source": [
    "file_llist = glob('/home/loyot/workspace/code/training_results/nerfacc/ngp_dnerf/trex/lr_0-01/hl2*dive*')"
   ]
  },
  {
   "cell_type": "code",
   "execution_count": 23,
   "id": "669fe243",
   "metadata": {},
   "outputs": [],
   "source": [
    "ff = [f.split('/')[-1] for f in file_llist]"
   ]
  },
  {
   "cell_type": "code",
   "execution_count": 24,
   "id": "5ec5119c",
   "metadata": {},
   "outputs": [],
   "source": [
    "ff.sort(key=natural_keys)"
   ]
  },
  {
   "cell_type": "code",
   "execution_count": 25,
   "id": "8198f3b6",
   "metadata": {},
   "outputs": [
    {
     "data": {
      "text/plain": [
       "['hl2_pf_nopw_l-huber_dive64.0_op_te_ta',\n",
       " 'hl2_pf_nopw_l-huber_dive128.0_op_te_ta',\n",
       " 'hl2_pf_nopw_l-huber_dive256.0_op_te_ta',\n",
       " 'hl2_pf_nopw_l-huber_dive512.0_op_te_ta',\n",
       " 'hl2_pf_nopw_l-huber_dive1024.0_op_te_ta',\n",
       " 'hl2_pf_nopw_l-huber_dive2048.0_op_te_ta',\n",
       " 'hl2_pf_nopw_l-huber_dive4096.0_op_te_ta',\n",
       " 'hl2_pf_nopw_l-huber_dive8192.0_op_te_ta']"
      ]
     },
     "execution_count": 25,
     "metadata": {},
     "output_type": "execute_result"
    }
   ],
   "source": [
    "ff"
   ]
  },
  {
   "cell_type": "code",
   "execution_count": null,
   "id": "f669a42b",
   "metadata": {},
   "outputs": [],
   "source": []
  }
 ],
 "metadata": {
  "kernelspec": {
   "display_name": "nerfacc",
   "language": "python",
   "name": "python3"
  },
  "language_info": {
   "codemirror_mode": {
    "name": "ipython",
    "version": 3
   },
   "file_extension": ".py",
   "mimetype": "text/x-python",
   "name": "python",
   "nbconvert_exporter": "python",
   "pygments_lexer": "ipython3",
   "version": "3.9.13"
  },
  "vscode": {
   "interpreter": {
    "hash": "bdc5c2d0e21a510627c7c0e521ac3deb474e2ecde23607639b19b4bb9e82177e"
   }
  }
 },
 "nbformat": 4,
 "nbformat_minor": 5
}
