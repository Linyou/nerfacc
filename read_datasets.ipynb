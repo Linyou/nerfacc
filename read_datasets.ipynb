{
 "cells": [
  {
   "cell_type": "code",
   "execution_count": 14,
   "id": "7685587d-45a9-40bd-bcbb-759997d640b9",
   "metadata": {},
   "outputs": [],
   "source": [
    "import numpy as np\n",
    "import imageio\n",
    "import os"
   ]
  },
  {
   "cell_type": "code",
   "execution_count": 2,
   "id": "d6e81a0d-243c-401f-8e48-f26f017f8788",
   "metadata": {},
   "outputs": [],
   "source": [
    "data_path = '/home/loyot/workspace/Datasets/NeRF/3d_vedio_datasets/flame_salmon_1'"
   ]
  },
  {
   "cell_type": "code",
   "execution_count": 15,
   "id": "de55c50c-9f72-4ada-9198-5fa9dbf4b11d",
   "metadata": {},
   "outputs": [],
   "source": [
    "def _load_data(basedir, factor=None, width=None, height=None):\n",
    "    \n",
    "    poses_arr = np.load(os.path.join(basedir, 'poses_bounds.npy'))\n",
    "    poses = poses_arr[:, :-2].reshape([-1, 3, 5]).transpose([1,2,0])\n",
    "    bds = poses_arr[:, -2:].transpose([1,0])\n",
    "    \n",
    "    vid = imageio.get_reader(basedir +'/cam00.mp4',  'ffmpeg')\n",
    "    img0 = vid.get_data(0)\n",
    "    sh = img0.shape\n",
    "    \n",
    "    sfx = ''\n",
    "    \n",
    "    if factor is not None:\n",
    "        sfx = '_{}'.format(factor)\n",
    "        _minify(basedir, factors=[factor])\n",
    "        factor = factor\n",
    "    elif height is not None:\n",
    "        factor = sh[0] / float(height)\n",
    "        width = int(sh[1] / factor)\n",
    "        _minify(basedir, resolutions=[[height, width]])\n",
    "        sfx = '_{}x{}'.format(width, height)\n",
    "    elif width is not None:\n",
    "        factor = sh[1] / float(width)\n",
    "        height = int(sh[0] / factor)\n",
    "        _minify(basedir, resolutions=[[height, width]])\n",
    "        sfx = '_{}x{}'.format(width, height)\n",
    "    else:\n",
    "        factor = 1\n",
    "\n",
    "    \n",
    "    poses[:2, 4, :] = np.array(sh[:2]).reshape([2, 1])\n",
    "    poses[2, 4, :] = poses[2, 4, :] * 1./factor\n",
    "    \n",
    "\n",
    "    return poses, bds"
   ]
  },
  {
   "cell_type": "code",
   "execution_count": 16,
   "id": "1b727871-a93e-4eee-b4a4-385ccba118cd",
   "metadata": {},
   "outputs": [],
   "source": [
    "poses, bds = _load_data(data_path)"
   ]
  },
  {
   "cell_type": "code",
   "execution_count": 18,
   "id": "6fba7f22-f145-4790-97f8-a26fa215143e",
   "metadata": {},
   "outputs": [
    {
     "data": {
      "text/plain": [
       "(3, 5, 19)"
      ]
     },
     "execution_count": 18,
     "metadata": {},
     "output_type": "execute_result"
    }
   ],
   "source": [
    "poses.shape"
   ]
  },
  {
   "cell_type": "code",
   "execution_count": 20,
   "id": "a5a3a380-4edf-4609-ba4d-53abcfb1e1f2",
   "metadata": {},
   "outputs": [
    {
     "data": {
      "text/plain": [
       "array([  8.0810779, 110.9585577])"
      ]
     },
     "execution_count": 20,
     "metadata": {},
     "output_type": "execute_result"
    }
   ],
   "source": [
    "bds[:, 0]"
   ]
  },
  {
   "cell_type": "code",
   "execution_count": 23,
   "id": "9768e08f-fd33-494c-a0b7-fd128e02d688",
   "metadata": {},
   "outputs": [
    {
     "data": {
      "text/plain": [
       "array([[-2.1698e-02,  9.9365e-01, -1.1053e-01,  3.8257e-01,  2.0280e+03],\n",
       "       [ 9.9951e-01,  2.0950e-02, -7.9117e-03, -1.2109e+00,  2.7040e+03],\n",
       "       [-5.5428e-03, -1.1066e-01, -9.9365e-01, -3.1641e-01,  1.4580e+03]],\n",
       "      dtype=float16)"
      ]
     },
     "execution_count": 23,
     "metadata": {},
     "output_type": "execute_result"
    }
   ],
   "source": [
    "poses[:, :, 0].astype(np.float16)"
   ]
  },
  {
   "cell_type": "code",
   "execution_count": null,
   "id": "c129cc84-d787-4a23-8520-e9b10d4d7981",
   "metadata": {},
   "outputs": [],
   "source": []
  }
 ],
 "metadata": {
  "kernelspec": {
   "display_name": "Python [conda env:nerfacc]",
   "language": "python",
   "name": "conda-env-nerfacc-py"
  },
  "language_info": {
   "codemirror_mode": {
    "name": "ipython",
    "version": 3
   },
   "file_extension": ".py",
   "mimetype": "text/x-python",
   "name": "python",
   "nbconvert_exporter": "python",
   "pygments_lexer": "ipython3",
   "version": "3.9.13"
  }
 },
 "nbformat": 4,
 "nbformat_minor": 5
}
